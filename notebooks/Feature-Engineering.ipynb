{
 "cells": [
  {
   "cell_type": "markdown",
   "metadata": {},
   "source": [
    "# Imports"
   ]
  },
  {
   "cell_type": "code",
   "execution_count": 1,
   "metadata": {},
   "outputs": [],
   "source": [
    "import pandas as pd\n",
    "import seaborn as sns\n",
    "import matplotlib.pyplot as plt\n",
    "import numpy as np"
   ]
  },
  {
   "cell_type": "markdown",
   "metadata": {},
   "source": [
    "# Leemos el dataset"
   ]
  },
  {
   "cell_type": "code",
   "execution_count": 2,
   "metadata": {},
   "outputs": [],
   "source": [
    "df = pd.read_csv('../data/train.csv')"
   ]
  },
  {
   "cell_type": "markdown",
   "metadata": {},
   "source": [
    "# Análisis"
   ]
  },
  {
   "cell_type": "markdown",
   "metadata": {},
   "source": [
    "Primero podemos usar .info para tener una idea general del dataset"
   ]
  },
  {
   "cell_type": "code",
   "execution_count": 3,
   "metadata": {},
   "outputs": [
    {
     "name": "stdout",
     "output_type": "stream",
     "text": [
      "<class 'pandas.core.frame.DataFrame'>\n",
      "RangeIndex: 240000 entries, 0 to 239999\n",
      "Data columns (total 23 columns):\n",
      "id                            240000 non-null int64\n",
      "titulo                        234613 non-null object\n",
      "descripcion                   238381 non-null object\n",
      "tipodepropiedad               239954 non-null object\n",
      "direccion                     186928 non-null object\n",
      "ciudad                        239628 non-null object\n",
      "provincia                     239845 non-null object\n",
      "antiguedad                    196445 non-null float64\n",
      "habitaciones                  217529 non-null float64\n",
      "garages                       202235 non-null float64\n",
      "banos                         213779 non-null float64\n",
      "metroscubiertos               222600 non-null float64\n",
      "metrostotales                 188533 non-null float64\n",
      "idzona                        211379 non-null float64\n",
      "lat                           116512 non-null float64\n",
      "lng                           116512 non-null float64\n",
      "fecha                         240000 non-null object\n",
      "gimnasio                      240000 non-null float64\n",
      "usosmultiples                 240000 non-null float64\n",
      "piscina                       240000 non-null float64\n",
      "escuelascercanas              240000 non-null float64\n",
      "centroscomercialescercanos    240000 non-null float64\n",
      "precio                        240000 non-null float64\n",
      "dtypes: float64(15), int64(1), object(7)\n",
      "memory usage: 42.1+ MB\n"
     ]
    }
   ],
   "source": [
    "df.info()"
   ]
  },
  {
   "cell_type": "markdown",
   "metadata": {},
   "source": [
    "Con value_counts() podemos ver la distribución de valores que toma una columna en particular"
   ]
  },
  {
   "cell_type": "code",
   "execution_count": 4,
   "metadata": {},
   "outputs": [
    {
     "data": {
      "text/plain": [
       "0.0     50335\n",
       "5.0     33268\n",
       "10.0    28844\n",
       "20.0    19904\n",
       "1.0     12353\n",
       "4.0      7944\n",
       "3.0      5616\n",
       "2.0      5059\n",
       "15.0     3965\n",
       "6.0      3169\n",
       "30.0     3055\n",
       "8.0      2418\n",
       "25.0     2297\n",
       "7.0      2046\n",
       "12.0     1492\n",
       "11.0     1434\n",
       "40.0     1347\n",
       "50.0     1193\n",
       "9.0      1065\n",
       "35.0      938\n",
       "18.0      908\n",
       "21.0      742\n",
       "16.0      700\n",
       "14.0      616\n",
       "13.0      577\n",
       "17.0      529\n",
       "22.0      448\n",
       "28.0      396\n",
       "26.0      369\n",
       "45.0      329\n",
       "        ...  \n",
       "47.0       40\n",
       "55.0       38\n",
       "48.0       36\n",
       "46.0       31\n",
       "70.0       29\n",
       "41.0       27\n",
       "80.0       27\n",
       "53.0       17\n",
       "49.0       17\n",
       "65.0       17\n",
       "52.0       11\n",
       "58.0       10\n",
       "54.0        9\n",
       "75.0        6\n",
       "66.0        5\n",
       "59.0        5\n",
       "69.0        5\n",
       "67.0        4\n",
       "57.0        4\n",
       "63.0        4\n",
       "62.0        3\n",
       "56.0        3\n",
       "74.0        2\n",
       "68.0        2\n",
       "79.0        2\n",
       "61.0        2\n",
       "76.0        2\n",
       "71.0        1\n",
       "77.0        1\n",
       "64.0        1\n",
       "Name: antiguedad, Length: 78, dtype: int64"
      ]
     },
     "execution_count": 4,
     "metadata": {},
     "output_type": "execute_result"
    }
   ],
   "source": [
    "df['antiguedad'].value_counts()"
   ]
  },
  {
   "cell_type": "markdown",
   "metadata": {},
   "source": [
    "Si la columna tiene un valor númerico puede ser interesante ver su histograma con la función hist()"
   ]
  },
  {
   "cell_type": "code",
   "execution_count": 5,
   "metadata": {},
   "outputs": [
    {
     "data": {
      "text/plain": [
       "<matplotlib.axes._subplots.AxesSubplot at 0x7fd77e709358>"
      ]
     },
     "execution_count": 5,
     "metadata": {},
     "output_type": "execute_result"
    },
    {
     "data": {
      "image/png": "[encoded data removed]",
      "text/plain": [
       "<Figure size 432x288 with 1 Axes>"
      ]
     },
     "metadata": {
      "needs_background": "light"
     },
     "output_type": "display_data"
    }
   ],
   "source": [
    "df['metroscubiertos'].hist()"
   ]
  },
  {
   "cell_type": "markdown",
   "metadata": {},
   "source": [
    "Otra posibilidad al ser valores numéricos es ver su distribución mediante la función describe(). Como parámetro acepta que le pasemos todos los percentiles que queremos ver."
   ]
  },
  {
   "cell_type": "code",
   "execution_count": 6,
   "metadata": {},
   "outputs": [
    {
     "data": {
      "text/plain": [
       "count    222600.000000\n",
       "mean        174.016774\n",
       "std          98.152950\n",
       "min          15.000000\n",
       "25%          90.000000\n",
       "50%         153.000000\n",
       "75%         240.000000\n",
       "max         439.000000\n",
       "Name: metroscubiertos, dtype: float64"
      ]
     },
     "execution_count": 6,
     "metadata": {},
     "output_type": "execute_result"
    }
   ],
   "source": [
    "df['metroscubiertos'].describe()"
   ]
  },
  {
   "cell_type": "markdown",
   "metadata": {},
   "source": [
    "En pandas es simple filtrar el dataset por el valor del alguna columna. \n",
    "Igualar una columna a un valor (df['ciudad']=='Mérida'), nos devuelve una serie de booleanos que sirven para indexar el dataset. También podemos filtrar filas en base a otros criterios, como tirar las que tienen valores \"NaN\" con la función dropna()"
   ]
  },
  {
   "cell_type": "code",
   "execution_count": 7,
   "metadata": {},
   "outputs": [
    {
     "data": {
      "text/plain": [
       "0         False\n",
       "1         False\n",
       "2         False\n",
       "3         False\n",
       "4         False\n",
       "5         False\n",
       "6         False\n",
       "7         False\n",
       "8         False\n",
       "9         False\n",
       "10        False\n",
       "11        False\n",
       "12        False\n",
       "13        False\n",
       "14        False\n",
       "15        False\n",
       "16        False\n",
       "17        False\n",
       "18        False\n",
       "19        False\n",
       "20        False\n",
       "21        False\n",
       "22        False\n",
       "23        False\n",
       "24        False\n",
       "25        False\n",
       "26        False\n",
       "27        False\n",
       "28        False\n",
       "29        False\n",
       "          ...  \n",
       "239970    False\n",
       "239971    False\n",
       "239972    False\n",
       "239973    False\n",
       "239974    False\n",
       "239975    False\n",
       "239976    False\n",
       "239977    False\n",
       "239978    False\n",
       "239979    False\n",
       "239980    False\n",
       "239981    False\n",
       "239982    False\n",
       "239983    False\n",
       "239984    False\n",
       "239985    False\n",
       "239986    False\n",
       "239987    False\n",
       "239988    False\n",
       "239989    False\n",
       "239990    False\n",
       "239991    False\n",
       "239992    False\n",
       "239993    False\n",
       "239994    False\n",
       "239995    False\n",
       "239996    False\n",
       "239997    False\n",
       "239998    False\n",
       "239999    False\n",
       "Name: ciudad, Length: 240000, dtype: bool"
      ]
     },
     "execution_count": 7,
     "metadata": {},
     "output_type": "execute_result"
    }
   ],
   "source": [
    "df['ciudad']=='Mérida'"
   ]
  },
  {
   "cell_type": "code",
   "execution_count": 8,
   "metadata": {},
   "outputs": [],
   "source": [
    "df_merida = df[df['ciudad']=='Mérida'].dropna()"
   ]
  },
  {
   "cell_type": "markdown",
   "metadata": {},
   "source": [
    "Para ver la relación entre algunas variables puede ser útil realizar un primer gráfico. Pandas tiene sus funciones para graficar basadas en matplotlib. Existen otras librerías como Seaborn que, si bien también está basada sobre matplotlib, da algunas funcionalidades más."
   ]
  },
  {
   "cell_type": "code",
   "execution_count": 9,
   "metadata": {},
   "outputs": [
    {
     "data": {
      "text/plain": [
       "<matplotlib.axes._subplots.AxesSubplot at 0x7fd77e862668>"
      ]
     },
     "execution_count": 9,
     "metadata": {},
     "output_type": "execute_result"
    },
    {
     "data": {
      "image/png": "[encoded data removed]",
      "text/plain": [
       "<Figure size 432x288 with 1 Axes>"
      ]
     },
     "metadata": {
      "needs_background": "light"
     },
     "output_type": "display_data"
    }
   ],
   "source": [
    "sns.scatterplot(data=df_merida, x='metroscubiertos', y='precio')"
   ]
  },
  {
   "cell_type": "markdown",
   "metadata": {},
   "source": [
    "En pandas es muy simple agregar una nueva columna con un valor calculado a partir de las otras. Por ejemplo, nuestro inmuebles serán \"copados para ejercitar\" si tiene gimnasio y pileta."
   ]
  },
  {
   "cell_type": "code",
   "execution_count": 11,
   "metadata": {},
   "outputs": [
    {
     "data": {
      "text/plain": [
       "Index(['id', 'titulo', 'descripcion', 'tipodepropiedad', 'direccion', 'ciudad',\n",
       "       'provincia', 'antiguedad', 'habitaciones', 'garages', 'banos',\n",
       "       'metroscubiertos', 'metrostotales', 'idzona', 'lat', 'lng', 'fecha',\n",
       "       'gimnasio', 'usosmultiples', 'piscina', 'escuelascercanas',\n",
       "       'centroscomercialescercanos', 'precio', 'copado para ejercitar'],\n",
       "      dtype='object')"
      ]
     },
     "execution_count": 11,
     "metadata": {},
     "output_type": "execute_result"
    }
   ],
   "source": [
    "df.columns"
   ]
  },
  {
   "cell_type": "code",
   "execution_count": 12,
   "metadata": {},
   "outputs": [
    {
     "data": {
      "text/plain": [
       "False    232634\n",
       "True       7366\n",
       "Name: copado para ejercitar, dtype: int64"
      ]
     },
     "execution_count": 12,
     "metadata": {},
     "output_type": "execute_result"
    }
   ],
   "source": [
    "df['copado para ejercitar'].value_counts()"
   ]
  },
  {
   "cell_type": "markdown",
   "metadata": {},
   "source": [
    "Más allá de que podemos segmentar utilizando filtros, a veces queremos realizar una acción para cada una de las segmentaciones posibles. Esto lo podemos lograr con la función groupby() que agrupa los valores y luego no deja aplicar una función sobre el grupo."
   ]
  },
  {
   "cell_type": "code",
   "execution_count": 13,
   "metadata": {},
   "outputs": [
    {
     "data": {
      "text/plain": [
       "<matplotlib.axes._subplots.AxesSubplot at 0x7fd775dabac8>"
      ]
     },
     "execution_count": 13,
     "metadata": {},
     "output_type": "execute_result"
    },
    {
     "data": {
      "image/png": "[encoded data removed]",
      "text/plain": [
       "<Figure size 432x288 with 1 Axes>"
      ]
     },
     "metadata": {
      "needs_background": "light"
     },
     "output_type": "display_data"
    }
   ],
   "source": [
    "df.groupby('tipodepropiedad')['copado para ejercitar'].mean()\n",
    "sns.scatterplot(data=df, x='copado para ejercitar', y='precio')"
   ]
  },
  {
   "cell_type": "code",
   "execution_count": 14,
   "metadata": {},
   "outputs": [
    {
     "name": "stdout",
     "output_type": "stream",
     "text": [
      "<class 'pandas.core.frame.DataFrame'>\n",
      "RangeIndex: 240000 entries, 0 to 239999\n",
      "Data columns (total 24 columns):\n",
      "id                            240000 non-null int64\n",
      "titulo                        234613 non-null object\n",
      "descripcion                   238381 non-null object\n",
      "tipodepropiedad               239954 non-null object\n",
      "direccion                     186928 non-null object\n",
      "ciudad                        239628 non-null object\n",
      "provincia                     239845 non-null object\n",
      "antiguedad                    196445 non-null float64\n",
      "habitaciones                  217529 non-null float64\n",
      "garages                       202235 non-null float64\n",
      "banos                         213779 non-null float64\n",
      "metroscubiertos               222600 non-null float64\n",
      "metrostotales                 188533 non-null float64\n",
      "idzona                        211379 non-null float64\n",
      "lat                           116512 non-null float64\n",
      "lng                           116512 non-null float64\n",
      "fecha                         240000 non-null object\n",
      "gimnasio                      240000 non-null float64\n",
      "usosmultiples                 240000 non-null float64\n",
      "piscina                       240000 non-null float64\n",
      "escuelascercanas              240000 non-null float64\n",
      "centroscomercialescercanos    240000 non-null float64\n",
      "precio                        240000 non-null float64\n",
      "copado para ejercitar         240000 non-null bool\n",
      "dtypes: bool(1), float64(15), int64(1), object(7)\n",
      "memory usage: 42.3+ MB\n"
     ]
    }
   ],
   "source": [
    "df.info()\n",
    "df.head()\n",
    "df.describe()\n",
    "for c in df.columns:\n",
    "    #print(f\"---- {c} ---\")\n",
    "    #print(df[c].value_counts())\n",
    "    pass\n"
   ]
  },
  {
   "cell_type": "code",
   "execution_count": 15,
   "metadata": {},
   "outputs": [
    {
     "data": {
      "text/plain": [
       "<matplotlib.axes._subplots.AxesSubplot at 0x7fd77e037048>"
      ]
     },
     "execution_count": 15,
     "metadata": {},
     "output_type": "execute_result"
    },
    {
     "data": {
      "image/png": "[encoded data removed]",
      "text/plain": [
       "<Figure size 432x288 with 1 Axes>"
      ]
     },
     "metadata": {
      "needs_background": "light"
     },
     "output_type": "display_data"
    }
   ],
   "source": [
    "df_ciudad = df[df['ciudad']=='Mérida'].dropna()\n",
    "sns.scatterplot(data=df_ciudad, x='metroscubiertos', y='precio')"
   ]
  },
  {
   "cell_type": "code",
   "execution_count": 16,
   "metadata": {},
   "outputs": [
    {
     "name": "stdout",
     "output_type": "stream",
     "text": [
      "20.696818141861158\n",
      "-99.5092209797803\n",
      "9.846318494416739\n",
      "94.94831508694203\n",
      "Mean --------------------------------------\n",
      " tipodepropiedad\n",
      "Garage                           5.000000e+05\n",
      "Lote                             9.887608e+05\n",
      "Duplex                           1.271758e+06\n",
      "Terreno                          1.805202e+06\n",
      "Local en centro comercial        2.212631e+06\n",
      "Local Comercial                  2.365064e+06\n",
      "Casa                             2.398158e+06\n",
      "Terreno comercial                2.472025e+06\n",
      "Departamento Compartido          2.560162e+06\n",
      "Bodega comercial                 2.693758e+06\n",
      "Apartamento                      2.763769e+06\n",
      "Villa                            2.767352e+06\n",
      "Otros                            2.881689e+06\n",
      "Casa en condominio               2.898927e+06\n",
      "Hospedaje                        3.000000e+06\n",
      "Oficina comercial                3.148533e+06\n",
      "Quinta Vacacional                3.187426e+06\n",
      "Huerta                           3.543350e+06\n",
      "Terreno industrial               3.647994e+06\n",
      "Casa uso de suelo                3.732469e+06\n",
      "Nave industrial                  3.742600e+06\n",
      "Inmuebles productivos urbanos    3.743070e+06\n",
      "Rancho                           4.032682e+06\n",
      "Edificio                         5.009499e+06\n",
      "Name: precio, dtype: float64\n",
      "Variance --------------------------------------\n",
      " tipodepropiedad\n",
      "Lote                             6.820915e+11\n",
      "Duplex                           2.118568e+12\n",
      "Local en centro comercial        3.757703e+12\n",
      "Villa                            3.838836e+12\n",
      "Terreno                          3.944873e+12\n",
      "Casa                             3.997227e+12\n",
      "Bodega comercial                 4.009818e+12\n",
      "Local Comercial                  4.099971e+12\n",
      "Quinta Vacacional                5.006824e+12\n",
      "Casa en condominio               5.359409e+12\n",
      "Apartamento                      5.488593e+12\n",
      "Oficina comercial                5.514648e+12\n",
      "Departamento Compartido          5.683142e+12\n",
      "Inmuebles productivos urbanos    6.147830e+12\n",
      "Terreno comercial                6.177171e+12\n",
      "Casa uso de suelo                6.400712e+12\n",
      "Otros                            6.778908e+12\n",
      "Nave industrial                  7.121216e+12\n",
      "Edificio                         8.342451e+12\n",
      "Terreno industrial               8.476934e+12\n",
      "Rancho                           1.092188e+13\n",
      "Huerta                           1.378948e+13\n",
      "Garage                                    NaN\n",
      "Hospedaje                                 NaN\n",
      "Name: precio, dtype: float64\n"
     ]
    }
   ],
   "source": [
    "for c in ['metrostotales','metroscubiertos']:\n",
    "    pass\n",
    "print(df['lat'].mean())\n",
    "print(df['lng'].mean())\n",
    "print(df['lat'].var())\n",
    "print(df['lng'].var())\n",
    "print(\"Mean --------------------------------------\\n\",\n",
    "      df.groupby('tipodepropiedad')['precio'].mean().sort_values())\n",
    "print(\"Variance --------------------------------------\\n\",\n",
    "      df.groupby('tipodepropiedad')['precio'].var().sort_values())"
   ]
  },
  {
   "cell_type": "code",
   "execution_count": 199,
   "metadata": {},
   "outputs": [],
   "source": [
    "df = pd.read_csv('../data/train.csv')"
   ]
  },
  {
   "cell_type": "code",
   "execution_count": 206,
   "metadata": {},
   "outputs": [],
   "source": [
    "df['copado para ejercitar'] =  df['piscina'] + df['gimnasio'] \n",
    "df['posicionamiento'] = df['centroscomercialescercanos'] + df['escuelascercanas'] + df['piscina'] + df['gimnasio'] \n",
    "df['espacio libre'] = df['metrostotales'] - df['metroscubiertos'] \n",
    "\n",
    "property_value = df.groupby('tipodepropiedad')['precio'].mean().sort_values()\n",
    "i = len(property_value)\n",
    "for key in property_value.keys():\n",
    "    property_value[key] = i\n",
    "    i-=1\n",
    "df['valor de tipodepropiedad'] = df['tipodepropiedad'].map(property_value)"
   ]
  },
  {
   "cell_type": "code",
   "execution_count": 201,
   "metadata": {},
   "outputs": [
    {
     "data": {
      "text/plain": [
       "<matplotlib.axes._subplots.AxesSubplot at 0x7fd759ff3b00>"
      ]
     },
     "execution_count": 201,
     "metadata": {},
     "output_type": "execute_result"
    },
    {
     "data": {
      "image/png": "[encoded data removed]",
      "text/plain": [
       "<Figure size 432x288 with 1 Axes>"
      ]
     },
     "metadata": {
      "needs_background": "light"
     },
     "output_type": "display_data"
    }
   ],
   "source": [
    "df_prop = df#[(df['tipodepropiedad']=='Casa') ].dropna()\n",
    "df_prop_ciudad = df_prop[df_prop['ciudad']=='Querétaro'].dropna()\n",
    "#sns.scatterplot(data=df_prop, x='metroscubiertos', y='precio')\n",
    "#sns.scatterplot(data=df_prop_ciudad, x='metroscubiertos', y='precio')\n",
    "sns.scatterplot(data=df_prop_ciudad, x='posicionamiento', y='precio')\n",
    "#df_prop_ciudad['tipodepropiedad']"
   ]
  },
  {
   "cell_type": "code",
   "execution_count": 202,
   "metadata": {},
   "outputs": [],
   "source": [
    "rows = []\n",
    "valid_columns = []\n",
    "for c in df_prop_ciudad.columns:\n",
    "    if np.issubdtype(df[c].dtype, np.number):\n",
    "        valid_columns.append(c)\n",
    "        variable = c\n",
    "        #print(f'---------------------------------------------------------------- {variable}')\n",
    "        values = []\n",
    "        for c in df_prop_ciudad.columns:\n",
    "            if np.issubdtype(df[c].dtype, np.number):\n",
    "                values.append(df_prop_ciudad[c].corr(df[variable]).round(3))\n",
    "                #print(f\"{c} = {df_prop_ciudad[c].corr(df[variable])}\")\n",
    "        rows.append(values)"
   ]
  },
  {
   "cell_type": "code",
   "execution_count": 203,
   "metadata": {},
   "outputs": [
    {
     "data": {
      "text/plain": [
       "(20, 21)"
      ]
     },
     "execution_count": 203,
     "metadata": {},
     "output_type": "execute_result"
    }
   ],
   "source": [
    "np.array(valid_columns).reshape(-1,1).shape\n",
    "#np.array(rows).shape\n",
    "np.append(np.array(rows), np.array(valid_columns).reshape(-1,1), axis=1).shape"
   ]
  },
  {
   "cell_type": "code",
   "execution_count": 207,
   "metadata": {},
   "outputs": [
    {
     "name": "stdout",
     "output_type": "stream",
     "text": [
      "AxesSubplot(0.125,0.125;0.62x0.755)\n"
     ]
    },
    {
     "data": {
      "text/html": [
       "<div>\n",
       "<style scoped>\n",
       "    .dataframe tbody tr th:only-of-type {\n",
       "        vertical-align: middle;\n",
       "    }\n",
       "\n",
       "    .dataframe tbody tr th {\n",
       "        vertical-align: top;\n",
       "    }\n",
       "\n",
       "    .dataframe thead th {\n",
       "        text-align: right;\n",
       "    }\n",
       "</style>\n",
       "<table border=\"1\" class=\"dataframe\">\n",
       "  <thead>\n",
       "    <tr style=\"text-align: right;\">\n",
       "      <th></th>\n",
       "      <th>variable</th>\n",
       "      <th>id</th>\n",
       "      <th>antiguedad</th>\n",
       "      <th>habitaciones</th>\n",
       "      <th>garages</th>\n",
       "      <th>banos</th>\n",
       "      <th>metroscubiertos</th>\n",
       "      <th>metrostotales</th>\n",
       "      <th>idzona</th>\n",
       "      <th>lat</th>\n",
       "      <th>...</th>\n",
       "      <th>gimnasio</th>\n",
       "      <th>usosmultiples</th>\n",
       "      <th>piscina</th>\n",
       "      <th>escuelascercanas</th>\n",
       "      <th>centroscomercialescercanos</th>\n",
       "      <th>precio</th>\n",
       "      <th>copado para ejercitar</th>\n",
       "      <th>posicionamiento</th>\n",
       "      <th>espacio libre</th>\n",
       "      <th>valor de tipodepropiedad</th>\n",
       "    </tr>\n",
       "  </thead>\n",
       "  <tbody>\n",
       "    <tr>\n",
       "      <th>0</th>\n",
       "      <td>id</td>\n",
       "      <td>1.0</td>\n",
       "      <td>0.026</td>\n",
       "      <td>0.011</td>\n",
       "      <td>0.013</td>\n",
       "      <td>-0.001</td>\n",
       "      <td>0.02</td>\n",
       "      <td>0.018</td>\n",
       "      <td>-0.023</td>\n",
       "      <td>0.013</td>\n",
       "      <td>...</td>\n",
       "      <td>0.002</td>\n",
       "      <td>0.011</td>\n",
       "      <td>0.007</td>\n",
       "      <td>0.011</td>\n",
       "      <td>-0.003</td>\n",
       "      <td>0.011</td>\n",
       "      <td>0.006</td>\n",
       "      <td>0.007</td>\n",
       "      <td>-0.004</td>\n",
       "      <td>0.009</td>\n",
       "    </tr>\n",
       "    <tr>\n",
       "      <th>1</th>\n",
       "      <td>antiguedad</td>\n",
       "      <td>0.026</td>\n",
       "      <td>1.0</td>\n",
       "      <td>0.096</td>\n",
       "      <td>-0.238</td>\n",
       "      <td>-0.127</td>\n",
       "      <td>-0.015</td>\n",
       "      <td>0.005</td>\n",
       "      <td>-0.034</td>\n",
       "      <td>-0.024</td>\n",
       "      <td>...</td>\n",
       "      <td>-0.087</td>\n",
       "      <td>-0.149</td>\n",
       "      <td>-0.171</td>\n",
       "      <td>0.007</td>\n",
       "      <td>-0.002</td>\n",
       "      <td>0.001</td>\n",
       "      <td>-0.17</td>\n",
       "      <td>-0.087</td>\n",
       "      <td>0.032</td>\n",
       "      <td>0.075</td>\n",
       "    </tr>\n",
       "    <tr>\n",
       "      <th>2</th>\n",
       "      <td>habitaciones</td>\n",
       "      <td>0.011</td>\n",
       "      <td>0.096</td>\n",
       "      <td>1.0</td>\n",
       "      <td>0.197</td>\n",
       "      <td>0.431</td>\n",
       "      <td>0.438</td>\n",
       "      <td>0.33</td>\n",
       "      <td>0.007</td>\n",
       "      <td>-0.016</td>\n",
       "      <td>...</td>\n",
       "      <td>-0.071</td>\n",
       "      <td>0.033</td>\n",
       "      <td>-0.007</td>\n",
       "      <td>0.01</td>\n",
       "      <td>0.008</td>\n",
       "      <td>0.342</td>\n",
       "      <td>-0.039</td>\n",
       "      <td>-0.013</td>\n",
       "      <td>-0.182</td>\n",
       "      <td>0.091</td>\n",
       "    </tr>\n",
       "    <tr>\n",
       "      <th>3</th>\n",
       "      <td>garages</td>\n",
       "      <td>0.013</td>\n",
       "      <td>-0.238</td>\n",
       "      <td>0.197</td>\n",
       "      <td>1.0</td>\n",
       "      <td>0.399</td>\n",
       "      <td>0.432</td>\n",
       "      <td>0.453</td>\n",
       "      <td>0.05</td>\n",
       "      <td>-0.01</td>\n",
       "      <td>...</td>\n",
       "      <td>0.048</td>\n",
       "      <td>0.09</td>\n",
       "      <td>0.127</td>\n",
       "      <td>0.074</td>\n",
       "      <td>0.086</td>\n",
       "      <td>0.393</td>\n",
       "      <td>0.118</td>\n",
       "      <td>0.131</td>\n",
       "      <td>0.017</td>\n",
       "      <td>0.026</td>\n",
       "    </tr>\n",
       "    <tr>\n",
       "      <th>4</th>\n",
       "      <td>banos</td>\n",
       "      <td>-0.001</td>\n",
       "      <td>-0.127</td>\n",
       "      <td>0.431</td>\n",
       "      <td>0.399</td>\n",
       "      <td>1.0</td>\n",
       "      <td>0.689</td>\n",
       "      <td>0.581</td>\n",
       "      <td>0.075</td>\n",
       "      <td>0.006</td>\n",
       "      <td>...</td>\n",
       "      <td>0.036</td>\n",
       "      <td>0.1</td>\n",
       "      <td>0.123</td>\n",
       "      <td>0.04</td>\n",
       "      <td>0.038</td>\n",
       "      <td>0.642</td>\n",
       "      <td>0.109</td>\n",
       "      <td>0.091</td>\n",
       "      <td>-0.191</td>\n",
       "      <td>0.065</td>\n",
       "    </tr>\n",
       "    <tr>\n",
       "      <th>5</th>\n",
       "      <td>metroscubiertos</td>\n",
       "      <td>0.02</td>\n",
       "      <td>-0.015</td>\n",
       "      <td>0.438</td>\n",
       "      <td>0.432</td>\n",
       "      <td>0.689</td>\n",
       "      <td>1.0</td>\n",
       "      <td>0.794</td>\n",
       "      <td>0.052</td>\n",
       "      <td>0.014</td>\n",
       "      <td>...</td>\n",
       "      <td>0.021</td>\n",
       "      <td>0.058</td>\n",
       "      <td>0.055</td>\n",
       "      <td>0.057</td>\n",
       "      <td>0.061</td>\n",
       "      <td>0.855</td>\n",
       "      <td>0.051</td>\n",
       "      <td>0.077</td>\n",
       "      <td>-0.352</td>\n",
       "      <td>0.108</td>\n",
       "    </tr>\n",
       "    <tr>\n",
       "      <th>6</th>\n",
       "      <td>metrostotales</td>\n",
       "      <td>0.018</td>\n",
       "      <td>0.005</td>\n",
       "      <td>0.33</td>\n",
       "      <td>0.453</td>\n",
       "      <td>0.581</td>\n",
       "      <td>0.794</td>\n",
       "      <td>1.0</td>\n",
       "      <td>0.053</td>\n",
       "      <td>0.022</td>\n",
       "      <td>...</td>\n",
       "      <td>-0.008</td>\n",
       "      <td>0.01</td>\n",
       "      <td>0.035</td>\n",
       "      <td>0.044</td>\n",
       "      <td>0.034</td>\n",
       "      <td>0.784</td>\n",
       "      <td>0.023</td>\n",
       "      <td>0.045</td>\n",
       "      <td>0.289</td>\n",
       "      <td>0.12</td>\n",
       "    </tr>\n",
       "    <tr>\n",
       "      <th>7</th>\n",
       "      <td>idzona</td>\n",
       "      <td>-0.023</td>\n",
       "      <td>-0.034</td>\n",
       "      <td>0.007</td>\n",
       "      <td>0.05</td>\n",
       "      <td>0.075</td>\n",
       "      <td>0.052</td>\n",
       "      <td>0.053</td>\n",
       "      <td>1.0</td>\n",
       "      <td>0.004</td>\n",
       "      <td>...</td>\n",
       "      <td>-0.016</td>\n",
       "      <td>-0.024</td>\n",
       "      <td>-0.028</td>\n",
       "      <td>-0.02</td>\n",
       "      <td>-0.026</td>\n",
       "      <td>0.039</td>\n",
       "      <td>-0.029</td>\n",
       "      <td>-0.035</td>\n",
       "      <td>-0.001</td>\n",
       "      <td>0.032</td>\n",
       "    </tr>\n",
       "    <tr>\n",
       "      <th>8</th>\n",
       "      <td>lat</td>\n",
       "      <td>0.013</td>\n",
       "      <td>-0.024</td>\n",
       "      <td>-0.016</td>\n",
       "      <td>-0.01</td>\n",
       "      <td>0.006</td>\n",
       "      <td>0.014</td>\n",
       "      <td>0.022</td>\n",
       "      <td>0.004</td>\n",
       "      <td>1.0</td>\n",
       "      <td>...</td>\n",
       "      <td>0.022</td>\n",
       "      <td>-0.032</td>\n",
       "      <td>-0.034</td>\n",
       "      <td>-0.016</td>\n",
       "      <td>-0.019</td>\n",
       "      <td>0.017</td>\n",
       "      <td>-0.015</td>\n",
       "      <td>-0.023</td>\n",
       "      <td>0.012</td>\n",
       "      <td>0.015</td>\n",
       "    </tr>\n",
       "    <tr>\n",
       "      <th>9</th>\n",
       "      <td>lng</td>\n",
       "      <td>-0.009</td>\n",
       "      <td>-0.012</td>\n",
       "      <td>-0.018</td>\n",
       "      <td>-0.02</td>\n",
       "      <td>-0.012</td>\n",
       "      <td>-0.002</td>\n",
       "      <td>0.004</td>\n",
       "      <td>-0.003</td>\n",
       "      <td>0.218</td>\n",
       "      <td>...</td>\n",
       "      <td>-0.012</td>\n",
       "      <td>0.006</td>\n",
       "      <td>0.001</td>\n",
       "      <td>-0.019</td>\n",
       "      <td>-0.013</td>\n",
       "      <td>-0.001</td>\n",
       "      <td>-0.005</td>\n",
       "      <td>-0.017</td>\n",
       "      <td>0.01</td>\n",
       "      <td>-0.037</td>\n",
       "    </tr>\n",
       "    <tr>\n",
       "      <th>10</th>\n",
       "      <td>gimnasio</td>\n",
       "      <td>0.002</td>\n",
       "      <td>-0.087</td>\n",
       "      <td>-0.071</td>\n",
       "      <td>0.048</td>\n",
       "      <td>0.036</td>\n",
       "      <td>0.021</td>\n",
       "      <td>-0.008</td>\n",
       "      <td>-0.016</td>\n",
       "      <td>0.022</td>\n",
       "      <td>...</td>\n",
       "      <td>1.0</td>\n",
       "      <td>0.311</td>\n",
       "      <td>0.304</td>\n",
       "      <td>0.055</td>\n",
       "      <td>0.048</td>\n",
       "      <td>0.122</td>\n",
       "      <td>0.699</td>\n",
       "      <td>0.411</td>\n",
       "      <td>-0.045</td>\n",
       "      <td>-0.146</td>\n",
       "    </tr>\n",
       "    <tr>\n",
       "      <th>11</th>\n",
       "      <td>usosmultiples</td>\n",
       "      <td>0.011</td>\n",
       "      <td>-0.149</td>\n",
       "      <td>0.033</td>\n",
       "      <td>0.09</td>\n",
       "      <td>0.1</td>\n",
       "      <td>0.058</td>\n",
       "      <td>0.01</td>\n",
       "      <td>-0.024</td>\n",
       "      <td>-0.032</td>\n",
       "      <td>...</td>\n",
       "      <td>0.311</td>\n",
       "      <td>1.0</td>\n",
       "      <td>0.571</td>\n",
       "      <td>0.083</td>\n",
       "      <td>0.118</td>\n",
       "      <td>0.114</td>\n",
       "      <td>0.575</td>\n",
       "      <td>0.389</td>\n",
       "      <td>-0.075</td>\n",
       "      <td>-0.222</td>\n",
       "    </tr>\n",
       "    <tr>\n",
       "      <th>12</th>\n",
       "      <td>piscina</td>\n",
       "      <td>0.007</td>\n",
       "      <td>-0.171</td>\n",
       "      <td>-0.007</td>\n",
       "      <td>0.127</td>\n",
       "      <td>0.123</td>\n",
       "      <td>0.055</td>\n",
       "      <td>0.035</td>\n",
       "      <td>-0.028</td>\n",
       "      <td>-0.034</td>\n",
       "      <td>...</td>\n",
       "      <td>0.304</td>\n",
       "      <td>0.571</td>\n",
       "      <td>1.0</td>\n",
       "      <td>0.115</td>\n",
       "      <td>0.123</td>\n",
       "      <td>0.141</td>\n",
       "      <td>0.894</td>\n",
       "      <td>0.572</td>\n",
       "      <td>-0.031</td>\n",
       "      <td>-0.262</td>\n",
       "    </tr>\n",
       "    <tr>\n",
       "      <th>13</th>\n",
       "      <td>escuelascercanas</td>\n",
       "      <td>0.011</td>\n",
       "      <td>0.007</td>\n",
       "      <td>0.01</td>\n",
       "      <td>0.074</td>\n",
       "      <td>0.04</td>\n",
       "      <td>0.057</td>\n",
       "      <td>0.044</td>\n",
       "      <td>-0.02</td>\n",
       "      <td>-0.016</td>\n",
       "      <td>...</td>\n",
       "      <td>0.055</td>\n",
       "      <td>0.083</td>\n",
       "      <td>0.115</td>\n",
       "      <td>1.0</td>\n",
       "      <td>0.688</td>\n",
       "      <td>0.035</td>\n",
       "      <td>0.112</td>\n",
       "      <td>0.778</td>\n",
       "      <td>-0.023</td>\n",
       "      <td>-0.017</td>\n",
       "    </tr>\n",
       "    <tr>\n",
       "      <th>14</th>\n",
       "      <td>centroscomercialescercanos</td>\n",
       "      <td>-0.003</td>\n",
       "      <td>-0.002</td>\n",
       "      <td>0.008</td>\n",
       "      <td>0.086</td>\n",
       "      <td>0.038</td>\n",
       "      <td>0.061</td>\n",
       "      <td>0.034</td>\n",
       "      <td>-0.026</td>\n",
       "      <td>-0.019</td>\n",
       "      <td>...</td>\n",
       "      <td>0.048</td>\n",
       "      <td>0.118</td>\n",
       "      <td>0.123</td>\n",
       "      <td>0.688</td>\n",
       "      <td>1.0</td>\n",
       "      <td>0.062</td>\n",
       "      <td>0.115</td>\n",
       "      <td>0.79</td>\n",
       "      <td>-0.043</td>\n",
       "      <td>-0.048</td>\n",
       "    </tr>\n",
       "    <tr>\n",
       "      <th>15</th>\n",
       "      <td>precio</td>\n",
       "      <td>0.011</td>\n",
       "      <td>0.001</td>\n",
       "      <td>0.342</td>\n",
       "      <td>0.393</td>\n",
       "      <td>0.642</td>\n",
       "      <td>0.855</td>\n",
       "      <td>0.784</td>\n",
       "      <td>0.039</td>\n",
       "      <td>0.017</td>\n",
       "      <td>...</td>\n",
       "      <td>0.122</td>\n",
       "      <td>0.114</td>\n",
       "      <td>0.141</td>\n",
       "      <td>0.035</td>\n",
       "      <td>0.062</td>\n",
       "      <td>1.0</td>\n",
       "      <td>0.163</td>\n",
       "      <td>0.127</td>\n",
       "      <td>-0.139</td>\n",
       "      <td>0.032</td>\n",
       "    </tr>\n",
       "    <tr>\n",
       "      <th>16</th>\n",
       "      <td>copado para ejercitar</td>\n",
       "      <td>0.006</td>\n",
       "      <td>-0.17</td>\n",
       "      <td>-0.039</td>\n",
       "      <td>0.118</td>\n",
       "      <td>0.109</td>\n",
       "      <td>0.051</td>\n",
       "      <td>0.023</td>\n",
       "      <td>-0.029</td>\n",
       "      <td>-0.015</td>\n",
       "      <td>...</td>\n",
       "      <td>0.699</td>\n",
       "      <td>0.575</td>\n",
       "      <td>0.894</td>\n",
       "      <td>0.112</td>\n",
       "      <td>0.115</td>\n",
       "      <td>0.163</td>\n",
       "      <td>1.0</td>\n",
       "      <td>0.623</td>\n",
       "      <td>-0.045</td>\n",
       "      <td>-0.265</td>\n",
       "    </tr>\n",
       "    <tr>\n",
       "      <th>17</th>\n",
       "      <td>posicionamiento</td>\n",
       "      <td>0.007</td>\n",
       "      <td>-0.087</td>\n",
       "      <td>-0.013</td>\n",
       "      <td>0.131</td>\n",
       "      <td>0.091</td>\n",
       "      <td>0.077</td>\n",
       "      <td>0.045</td>\n",
       "      <td>-0.035</td>\n",
       "      <td>-0.023</td>\n",
       "      <td>...</td>\n",
       "      <td>0.411</td>\n",
       "      <td>0.389</td>\n",
       "      <td>0.572</td>\n",
       "      <td>0.778</td>\n",
       "      <td>0.79</td>\n",
       "      <td>0.127</td>\n",
       "      <td>0.623</td>\n",
       "      <td>1.0</td>\n",
       "      <td>-0.052</td>\n",
       "      <td>-0.168</td>\n",
       "    </tr>\n",
       "    <tr>\n",
       "      <th>18</th>\n",
       "      <td>espacio libre</td>\n",
       "      <td>-0.004</td>\n",
       "      <td>0.032</td>\n",
       "      <td>-0.182</td>\n",
       "      <td>0.017</td>\n",
       "      <td>-0.191</td>\n",
       "      <td>-0.352</td>\n",
       "      <td>0.289</td>\n",
       "      <td>-0.001</td>\n",
       "      <td>0.012</td>\n",
       "      <td>...</td>\n",
       "      <td>-0.045</td>\n",
       "      <td>-0.075</td>\n",
       "      <td>-0.031</td>\n",
       "      <td>-0.023</td>\n",
       "      <td>-0.043</td>\n",
       "      <td>-0.139</td>\n",
       "      <td>-0.045</td>\n",
       "      <td>-0.052</td>\n",
       "      <td>1.0</td>\n",
       "      <td>0.014</td>\n",
       "    </tr>\n",
       "    <tr>\n",
       "      <th>19</th>\n",
       "      <td>valor de tipodepropiedad</td>\n",
       "      <td>0.009</td>\n",
       "      <td>0.075</td>\n",
       "      <td>0.091</td>\n",
       "      <td>0.026</td>\n",
       "      <td>0.065</td>\n",
       "      <td>0.108</td>\n",
       "      <td>0.12</td>\n",
       "      <td>0.032</td>\n",
       "      <td>0.015</td>\n",
       "      <td>...</td>\n",
       "      <td>-0.146</td>\n",
       "      <td>-0.222</td>\n",
       "      <td>-0.262</td>\n",
       "      <td>-0.017</td>\n",
       "      <td>-0.048</td>\n",
       "      <td>0.032</td>\n",
       "      <td>-0.265</td>\n",
       "      <td>-0.168</td>\n",
       "      <td>0.014</td>\n",
       "      <td>1.0</td>\n",
       "    </tr>\n",
       "  </tbody>\n",
       "</table>\n",
       "<p>20 rows × 21 columns</p>\n",
       "</div>"
      ],
      "text/plain": [
       "                      variable      id antiguedad habitaciones garages  \\\n",
       "0                           id     1.0      0.026        0.011   0.013   \n",
       "1                   antiguedad   0.026        1.0        0.096  -0.238   \n",
       "2                 habitaciones   0.011      0.096          1.0   0.197   \n",
       "3                      garages   0.013     -0.238        0.197     1.0   \n",
       "4                        banos  -0.001     -0.127        0.431   0.399   \n",
       "5              metroscubiertos    0.02     -0.015        0.438   0.432   \n",
       "6                metrostotales   0.018      0.005         0.33   0.453   \n",
       "7                       idzona  -0.023     -0.034        0.007    0.05   \n",
       "8                          lat   0.013     -0.024       -0.016   -0.01   \n",
       "9                          lng  -0.009     -0.012       -0.018   -0.02   \n",
       "10                    gimnasio   0.002     -0.087       -0.071   0.048   \n",
       "11               usosmultiples   0.011     -0.149        0.033    0.09   \n",
       "12                     piscina   0.007     -0.171       -0.007   0.127   \n",
       "13            escuelascercanas   0.011      0.007         0.01   0.074   \n",
       "14  centroscomercialescercanos  -0.003     -0.002        0.008   0.086   \n",
       "15                      precio   0.011      0.001        0.342   0.393   \n",
       "16       copado para ejercitar   0.006      -0.17       -0.039   0.118   \n",
       "17             posicionamiento   0.007     -0.087       -0.013   0.131   \n",
       "18               espacio libre  -0.004      0.032       -0.182   0.017   \n",
       "19    valor de tipodepropiedad   0.009      0.075        0.091   0.026   \n",
       "\n",
       "     banos metroscubiertos metrostotales  idzona     lat  ... gimnasio  \\\n",
       "0   -0.001            0.02         0.018  -0.023   0.013  ...    0.002   \n",
       "1   -0.127          -0.015         0.005  -0.034  -0.024  ...   -0.087   \n",
       "2    0.431           0.438          0.33   0.007  -0.016  ...   -0.071   \n",
       "3    0.399           0.432         0.453    0.05   -0.01  ...    0.048   \n",
       "4      1.0           0.689         0.581   0.075   0.006  ...    0.036   \n",
       "5    0.689             1.0         0.794   0.052   0.014  ...    0.021   \n",
       "6    0.581           0.794           1.0   0.053   0.022  ...   -0.008   \n",
       "7    0.075           0.052         0.053     1.0   0.004  ...   -0.016   \n",
       "8    0.006           0.014         0.022   0.004     1.0  ...    0.022   \n",
       "9   -0.012          -0.002         0.004  -0.003   0.218  ...   -0.012   \n",
       "10   0.036           0.021        -0.008  -0.016   0.022  ...      1.0   \n",
       "11     0.1           0.058          0.01  -0.024  -0.032  ...    0.311   \n",
       "12   0.123           0.055         0.035  -0.028  -0.034  ...    0.304   \n",
       "13    0.04           0.057         0.044   -0.02  -0.016  ...    0.055   \n",
       "14   0.038           0.061         0.034  -0.026  -0.019  ...    0.048   \n",
       "15   0.642           0.855         0.784   0.039   0.017  ...    0.122   \n",
       "16   0.109           0.051         0.023  -0.029  -0.015  ...    0.699   \n",
       "17   0.091           0.077         0.045  -0.035  -0.023  ...    0.411   \n",
       "18  -0.191          -0.352         0.289  -0.001   0.012  ...   -0.045   \n",
       "19   0.065           0.108          0.12   0.032   0.015  ...   -0.146   \n",
       "\n",
       "   usosmultiples piscina escuelascercanas centroscomercialescercanos  precio  \\\n",
       "0          0.011   0.007            0.011                     -0.003   0.011   \n",
       "1         -0.149  -0.171            0.007                     -0.002   0.001   \n",
       "2          0.033  -0.007             0.01                      0.008   0.342   \n",
       "3           0.09   0.127            0.074                      0.086   0.393   \n",
       "4            0.1   0.123             0.04                      0.038   0.642   \n",
       "5          0.058   0.055            0.057                      0.061   0.855   \n",
       "6           0.01   0.035            0.044                      0.034   0.784   \n",
       "7         -0.024  -0.028            -0.02                     -0.026   0.039   \n",
       "8         -0.032  -0.034           -0.016                     -0.019   0.017   \n",
       "9          0.006   0.001           -0.019                     -0.013  -0.001   \n",
       "10         0.311   0.304            0.055                      0.048   0.122   \n",
       "11           1.0   0.571            0.083                      0.118   0.114   \n",
       "12         0.571     1.0            0.115                      0.123   0.141   \n",
       "13         0.083   0.115              1.0                      0.688   0.035   \n",
       "14         0.118   0.123            0.688                        1.0   0.062   \n",
       "15         0.114   0.141            0.035                      0.062     1.0   \n",
       "16         0.575   0.894            0.112                      0.115   0.163   \n",
       "17         0.389   0.572            0.778                       0.79   0.127   \n",
       "18        -0.075  -0.031           -0.023                     -0.043  -0.139   \n",
       "19        -0.222  -0.262           -0.017                     -0.048   0.032   \n",
       "\n",
       "   copado para ejercitar posicionamiento espacio libre  \\\n",
       "0                  0.006           0.007        -0.004   \n",
       "1                  -0.17          -0.087         0.032   \n",
       "2                 -0.039          -0.013        -0.182   \n",
       "3                  0.118           0.131         0.017   \n",
       "4                  0.109           0.091        -0.191   \n",
       "5                  0.051           0.077        -0.352   \n",
       "6                  0.023           0.045         0.289   \n",
       "7                 -0.029          -0.035        -0.001   \n",
       "8                 -0.015          -0.023         0.012   \n",
       "9                 -0.005          -0.017          0.01   \n",
       "10                 0.699           0.411        -0.045   \n",
       "11                 0.575           0.389        -0.075   \n",
       "12                 0.894           0.572        -0.031   \n",
       "13                 0.112           0.778        -0.023   \n",
       "14                 0.115            0.79        -0.043   \n",
       "15                 0.163           0.127        -0.139   \n",
       "16                   1.0           0.623        -0.045   \n",
       "17                 0.623             1.0        -0.052   \n",
       "18                -0.045          -0.052           1.0   \n",
       "19                -0.265          -0.168         0.014   \n",
       "\n",
       "   valor de tipodepropiedad  \n",
       "0                     0.009  \n",
       "1                     0.075  \n",
       "2                     0.091  \n",
       "3                     0.026  \n",
       "4                     0.065  \n",
       "5                     0.108  \n",
       "6                      0.12  \n",
       "7                     0.032  \n",
       "8                     0.015  \n",
       "9                    -0.037  \n",
       "10                   -0.146  \n",
       "11                   -0.222  \n",
       "12                   -0.262  \n",
       "13                   -0.017  \n",
       "14                   -0.048  \n",
       "15                    0.032  \n",
       "16                   -0.265  \n",
       "17                   -0.168  \n",
       "18                    0.014  \n",
       "19                      1.0  \n",
       "\n",
       "[20 rows x 21 columns]"
      ]
     },
     "execution_count": 207,
     "metadata": {},
     "output_type": "execute_result"
    },
    {
     "data": {
      "image/png": "[encoded data removed]",
      "text/plain": [
       "<Figure size 864x720 with 2 Axes>"
      ]
     },
     "metadata": {
      "needs_background": "light"
     },
     "output_type": "display_data"
    }
   ],
   "source": [
    "fig, ax = plt.subplots(figsize=(12,10))         # Sample figsize in inches       \n",
    "corr_df = pd.DataFrame(np.append(np.array(valid_columns).reshape(-1,1), np.array(rows), axis=1),columns=['variable']+valid_columns)\n",
    "corr_heatmap = sns.heatmap(np.array(rows), xticklabels=valid_columns, yticklabels=valid_columns)\n",
    "print(corr_heatmap)\n",
    "corr_df"
   ]
  },
  {
   "cell_type": "code",
   "execution_count": null,
   "metadata": {},
   "outputs": [],
   "source": []
  },
  {
   "cell_type": "code",
   "execution_count": 143,
   "metadata": {},
   "outputs": [
    {
     "data": {
      "text/plain": [
       "<matplotlib.axes._subplots.AxesSubplot at 0x7ff6e7a61208>"
      ]
     },
     "execution_count": 143,
     "metadata": {},
     "output_type": "execute_result"
    },
    {
     "data": {
      "image/png": "[encoded data removed]",
      "text/plain": [
       "<Figure size 432x288 with 1 Axes>"
      ]
     },
     "metadata": {
      "needs_background": "light"
     },
     "output_type": "display_data"
    }
   ],
   "source": [
    "sns.scatterplot(data=df_prop_ciudad, x='garages', y='precio')"
   ]
  },
  {
   "cell_type": "code",
   "execution_count": 144,
   "metadata": {},
   "outputs": [
    {
     "data": {
      "text/plain": [
       "<matplotlib.axes._subplots.AxesSubplot at 0x7ff6ec1fa198>"
      ]
     },
     "execution_count": 144,
     "metadata": {},
     "output_type": "execute_result"
    },
    {
     "data": {
      "image/png": "[encoded data removed]",
      "text/plain": [
       "<Figure size 432x288 with 1 Axes>"
      ]
     },
     "metadata": {
      "needs_background": "light"
     },
     "output_type": "display_data"
    }
   ],
   "source": [
    "sns.scatterplot(data=df_prop_ciudad, x='piscina', y='precio')"
   ]
  },
  {
   "cell_type": "code",
   "execution_count": 145,
   "metadata": {},
   "outputs": [
    {
     "data": {
      "text/plain": [
       "<matplotlib.axes._subplots.AxesSubplot at 0x7ff6ec1694a8>"
      ]
     },
     "execution_count": 145,
     "metadata": {},
     "output_type": "execute_result"
    },
    {
     "data": {
      "image/png": "[encoded data removed]",
      "text/plain": [
       "<Figure size 432x288 with 1 Axes>"
      ]
     },
     "metadata": {
      "needs_background": "light"
     },
     "output_type": "display_data"
    }
   ],
   "source": [
    "sns.scatterplot(data=df_prop_ciudad, x='usosmultiples', y='precio')"
   ]
  },
  {
   "cell_type": "code",
   "execution_count": null,
   "metadata": {},
   "outputs": [],
   "source": []
  }
 ],
 "metadata": {
  "kernelspec": {
   "display_name": "Python 3",
   "language": "python",
   "name": "python3"
  },
  "language_info": {
   "codemirror_mode": {
    "name": "ipython",
    "version": 3
   },
   "file_extension": ".py",
   "mimetype": "text/x-python",
   "name": "python",
   "nbconvert_exporter": "python",
   "pygments_lexer": "ipython3",
   "version": "3.6.9"
  }
 },
 "nbformat": 4,
 "nbformat_minor": 4
}

{
 "cells": [
  {
   "cell_type": "code",
   "execution_count": null,
   "metadata": {},
   "outputs": [],
   "source": [
    "import numpy as np\n",
    "import matplotlib.pyplot as plt\n",
    "from sklearn import metrics"
   ]
  },
  {
   "cell_type": "code",
   "execution_count": null,
   "metadata": {},
   "outputs": [],
   "source": [
    "def tf(x) -> float:\n",
    "    return x*np.sin(1/x)\n",
    "def f(x) -> float:\n",
    "    return x*np.sin(1/x) + np.random.normal(0, .02, x.shape[0])"
   ]
  },
  {
   "cell_type": "code",
   "execution_count": null,
   "metadata": {},
   "outputs": [],
   "source": [
    "xs = np.arange(-1, 1, 0.001)\n",
    "ys = f(xs)\n",
    "\n",
    "plt.plot(xs, ys, '.')\n",
    "plt.show()"
   ]
  },
  {
   "cell_type": "code",
   "execution_count": null,
   "metadata": {},
   "outputs": [],
   "source": [
    "A = np.stack([xs**i for i in range(5)]).T\n",
    "b = ys.reshape(-1, 1)\n",
    "\n",
    "AtA = A.T @ A\n",
    "Atb = A.T @ b\n",
    "\n",
    "x_sol = np.linalg.solve(AtA, Atb)"
   ]
  },
  {
   "cell_type": "code",
   "execution_count": null,
   "metadata": {},
   "outputs": [],
   "source": [
    "def f(coef, x):\n",
    "    r = 0\n",
    "    for i in range(coef.shape[0]):\n",
    "        r += coef[i]*x**i\n",
    "    return r"
   ]
  },
  {
   "cell_type": "code",
   "execution_count": null,
   "metadata": {},
   "outputs": [],
   "source": [
    "ys_pred = f(x_sol, xs)"
   ]
  },
  {
   "cell_type": "code",
   "execution_count": null,
   "metadata": {},
   "outputs": [],
   "source": [
    "plt.plot(xs, ys, '.')\n",
    "#plt.plot(xs, tf(xs))\n",
    "plt.plot(xs, ys_pred, 'r')\n",
    "plt.show()"
   ]
  },
  {
   "cell_type": "code",
   "execution_count": null,
   "metadata": {},
   "outputs": [],
   "source": [
    "print('r2: {}'.format(metrics.r2_score(ys, ys_pred)))\n",
    "print('mse: {}'.format(metrics.mean_squared_error(ys, ys_pred)))"
   ]
  }
 ],
 "metadata": {
  "kernelspec": {
   "display_name": "Python 3.8.2 64-bit ('metnum': venv)",
   "language": "python",
   "name": "python38264bitmetnumvenvc44a19ffde4845f8ad72094b1e6e18a8"
  },
  "language_info": {
   "codemirror_mode": {
    "name": "ipython",
    "version": 3
   },
   "file_extension": ".py",
   "mimetype": "text/x-python",
   "name": "python",
   "nbconvert_exporter": "python",
   "pygments_lexer": "ipython3",
   "version": "3.8.3"
  }
 },
 "nbformat": 4,
 "nbformat_minor": 4
}

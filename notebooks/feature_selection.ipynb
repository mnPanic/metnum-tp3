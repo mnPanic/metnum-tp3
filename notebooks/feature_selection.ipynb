{
 "cells": [
  {
   "cell_type": "code",
   "execution_count": 1,
   "metadata": {},
   "outputs": [],
   "source": [
    "import pandas as pd\n",
    "import numpy as np\n",
    "import seaborn as sns\n",
    "import matplotlib.pyplot as plt"
   ]
  },
  {
   "cell_type": "code",
   "execution_count": 3,
   "metadata": {},
   "outputs": [
    {
     "name": "stdout",
     "output_type": "stream",
     "text": [
      "The autoreload extension is already loaded. To reload it, use:\n",
      "  %reload_ext autoreload\n",
      "/home/ignacio/Documents/Facultad/metnum-tp3/notebooks\n",
      "Python 3.8.3\n"
     ]
    }
   ],
   "source": [
    "# Verifico la correcta instalación. Si no falla el import está OK\n",
    "%load_ext autoreload\n",
    "%autoreload 2\n",
    "\n",
    "!pwd\n",
    "!python --version"
   ]
  },
  {
   "cell_type": "code",
   "execution_count": 6,
   "metadata": {},
   "outputs": [
    {
     "name": "stdout",
     "output_type": "stream",
     "text": [
      "<class 'pandas.core.frame.DataFrame'>\n",
      "Int64Index: 518 entries, 263 to 239785\n",
      "Data columns (total 23 columns):\n",
      " #   Column                      Non-Null Count  Dtype  \n",
      "---  ------                      --------------  -----  \n",
      " 0   id                          518 non-null    int64  \n",
      " 1   titulo                      518 non-null    object \n",
      " 2   descripcion                 518 non-null    object \n",
      " 3   tipodepropiedad             518 non-null    object \n",
      " 4   direccion                   518 non-null    object \n",
      " 5   ciudad                      518 non-null    object \n",
      " 6   provincia                   518 non-null    object \n",
      " 7   antiguedad                  518 non-null    float64\n",
      " 8   habitaciones                518 non-null    float64\n",
      " 9   garages                     518 non-null    float64\n",
      " 10  banos                       518 non-null    float64\n",
      " 11  metroscubiertos             518 non-null    float64\n",
      " 12  metrostotales               518 non-null    float64\n",
      " 13  idzona                      518 non-null    float64\n",
      " 14  lat                         518 non-null    float64\n",
      " 15  lng                         518 non-null    float64\n",
      " 16  fecha                       518 non-null    object \n",
      " 17  gimnasio                    518 non-null    float64\n",
      " 18  usosmultiples               518 non-null    float64\n",
      " 19  piscina                     518 non-null    float64\n",
      " 20  escuelascercanas            518 non-null    float64\n",
      " 21  centroscomercialescercanos  518 non-null    float64\n",
      " 22  precio                      518 non-null    float64\n",
      "dtypes: float64(15), int64(1), object(7)\n",
      "memory usage: 97.1+ KB\n"
     ]
    }
   ],
   "source": [
    "df = pd.read_csv('../data/train.csv')\n",
    "df = df[df['ciudad']=='Mérida'].dropna()\n",
    "df.info()"
   ]
  },
  {
   "cell_type": "code",
   "execution_count": 15,
   "metadata": {},
   "outputs": [],
   "source": [
    "import metnum\n",
    "import wrappers\n",
    "import stepwise_selectors as ss\n",
    "\n",
    "features = [\"antiguedad\", \"habitaciones\", \"garages\", \"banos\", \"metroscubiertos\", \"metrostotales\"]\n",
    "explain = \"precio\"\n",
    "\n",
    "best_features = ss.forward_stepwise_selection(df, features, explain)"
   ]
  },
  {
   "cell_type": "code",
   "execution_count": 16,
   "metadata": {},
   "outputs": [
    {
     "data": {
      "text/plain": [
       "['metroscubiertos', 'habitaciones']"
      ]
     },
     "execution_count": 16,
     "metadata": {},
     "output_type": "execute_result"
    }
   ],
   "source": [
    "best_features"
   ]
  },
  {
   "cell_type": "code",
   "execution_count": null,
   "metadata": {},
   "outputs": [],
   "source": []
  }
 ],
 "metadata": {
  "kernelspec": {
   "display_name": "Python 3.8.2 64-bit ('metnum': venv)",
   "language": "python",
   "name": "python38264bitmetnumvenvc44a19ffde4845f8ad72094b1e6e18a8"
  },
  "language_info": {
   "codemirror_mode": {
    "name": "ipython",
    "version": 3
   },
   "file_extension": ".py",
   "mimetype": "text/x-python",
   "name": "python",
   "nbconvert_exporter": "python",
   "pygments_lexer": "ipython3",
   "version": "3.8.3"
  }
 },
 "nbformat": 4,
 "nbformat_minor": 4
}

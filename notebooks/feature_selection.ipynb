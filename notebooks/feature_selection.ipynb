{
 "cells": [
  {
   "cell_type": "code",
   "execution_count": null,
   "metadata": {},
   "outputs": [],
   "source": [
    "import pandas as pd\n",
    "import numpy as np\n",
    "import seaborn as sns\n",
    "import matplotlib.pyplot as plt"
   ]
  },
  {
   "cell_type": "code",
   "execution_count": null,
   "metadata": {},
   "outputs": [],
   "source": [
    "# Verifico la correcta instalación. Si no falla el import está OK\n",
    "%load_ext autoreload\n",
    "%autoreload 2\n",
    "\n",
    "!pwd\n",
    "!python --version"
   ]
  },
  {
   "cell_type": "code",
   "execution_count": null,
   "metadata": {},
   "outputs": [],
   "source": [
    "df = pd.read_csv('../data/train.csv').dropna(\n",
    "    #subset=['precio','metroscubiertos']\n",
    "    subset=[\"metroscubiertos\",\"antiguedad\", \"banos\",\"garages\", \"metrostotales\"],\n",
    ")\n",
    "df = df.sample(frac=1)\n",
    "df.head()"
   ]
  },
  {
   "cell_type": "code",
   "execution_count": null,
   "metadata": {},
   "outputs": [],
   "source": [
    "#df = df[(df['provincia'] == 'Jalisco') | (df['provincia'] == 'Oaxaca')]"
   ]
  },
  {
   "cell_type": "code",
   "execution_count": null,
   "metadata": {},
   "outputs": [],
   "source": [
    "import metnum\n",
    "import wrappers\n",
    "import stepwise_selectors as ss\n",
    "from typing import List\n",
    "\n",
    "features = [\"metroscubiertos\",\"antiguedad\", \"banos\", \"habitaciones\", \"garages\", \"lat\", \"lng\", \"metrostotales\"]\n",
    "explain = \"precio\"\n",
    "\n",
    "def funky(fs: List[str], e:str) -> wrappers.RegressionWrapper:\n",
    "    return wrappers.ProyectionRegression(fs, explain=e)\n",
    "\n",
    "#[df[\"habitaciones\"].values, 1]\n",
    "\n",
    "#clf = funky(features, explain)\n",
    "\n",
    "best_fs, scores_by_step = ss.forward_stepwise_selection(funky, df, features, explain, 4)\n",
    "#best_fs = ss.forward_stepwise_selection(df, features, explain, 4)"
   ]
  },
  {
   "cell_type": "code",
   "execution_count": null,
   "metadata": {},
   "outputs": [],
   "source": [
    "import cross_validation as cv\n",
    "import wrappers\n",
    "from typing import List\n",
    "\n",
    "#features = [\"metroscubiertos\"]\n",
    "features = [\"metroscubiertos\",\"antiguedad\", \"banos\", \"garages\", \"metrostotales\"]\n",
    "\n",
    "limit = int(df.shape[0]*.5)\n",
    "df_train = df[limit:]\n",
    "df_test = df[:limit]\n",
    "\n",
    "clf = wrappers.ProyectionRegression(\n",
    "    features,\n",
    "    explain=\"precio\",\n",
    "    func_segment = lambda df: segment_by_col(df, 'provincia'),\n",
    ")\n",
    "clf.fit(df_train)\n",
    "#print(clf.get_x(0))\n",
    "scores, pred = clf.scores(df_test)"
   ]
  },
  {
   "cell_type": "code",
   "execution_count": null,
   "metadata": {},
   "outputs": [],
   "source": [
    "scores"
   ]
  },
  {
   "cell_type": "code",
   "execution_count": null,
   "metadata": {},
   "outputs": [],
   "source": [
    "pred.head()"
   ]
  },
  {
   "cell_type": "code",
   "execution_count": null,
   "metadata": {},
   "outputs": [],
   "source": [
    "import matplotlib.pyplot as plt\n",
    "plt.subplots(1, 1, figsize=(18, 8))\n",
    "\n",
    "sns.scatterplot(data=pred, x='metroscubiertos', y='precio', hue='provincia', s=20)\n",
    "sns.lineplot(data=pred, x='metroscubiertos', y='prediction', hue='provincia')"
   ]
  }
 ],
 "metadata": {
  "kernelspec": {
   "display_name": "Python 3.8.2 64-bit ('metnum': venv)",
   "language": "python",
   "name": "python38264bitmetnumvenvc44a19ffde4845f8ad72094b1e6e18a8"
  },
  "language_info": {
   "codemirror_mode": {
    "name": "ipython",
    "version": 3
   },
   "file_extension": ".py",
   "mimetype": "text/x-python",
   "name": "python",
   "nbconvert_exporter": "python",
   "pygments_lexer": "ipython3",
   "version": "3.8.3"
  }
 },
 "nbformat": 4,
 "nbformat_minor": 4
}

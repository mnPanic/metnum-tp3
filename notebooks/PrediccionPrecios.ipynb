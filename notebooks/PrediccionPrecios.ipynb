{
 "cells": [
  {
   "cell_type": "code",
   "execution_count": 2,
   "metadata": {},
   "outputs": [],
   "source": [
    "import pandas as pd\n",
    "import numpy as np\n",
    "\n",
    "import seaborn as sns\n",
    "import matplotlib.pyplot as plt"
   ]
  },
  {
   "cell_type": "code",
   "execution_count": null,
   "metadata": {},
   "outputs": [],
   "source": [
    "!cd .. && mkdir build\n",
    "!cd ../build/ && rm -rf *\n",
    "!cd ../build && cmake \\\n",
    "  -DPYTHON_EXECUTABLE=\"$(which python)\" \\\n",
    "  -DCMAKE_BUILD_TYPE=Release ..\n",
    "!cd ../build && make install"
   ]
  },
  {
   "cell_type": "code",
   "execution_count": 3,
   "metadata": {},
   "outputs": [
    {
     "name": "stdout",
     "output_type": "stream",
     "text": [
      "/home/mnpanic/repos/metnum-tp3/notebooks\n",
      "Python 3.6.9\n"
     ]
    }
   ],
   "source": [
    "# Verifico la correcta instalación. Si no falla el import está OK\n",
    "%load_ext autoreload\n",
    "%autoreload 2\n",
    "\n",
    "!pwd\n",
    "!python --version\n",
    "import metnum\n"
   ]
  },
  {
   "cell_type": "code",
   "execution_count": 4,
   "metadata": {},
   "outputs": [],
   "source": [
    "df = pd.read_csv('../data/train.csv')\n",
    "df = df[df['ciudad']=='Mérida'].dropna()\n",
    "\n",
    "x = df['metroscubiertos'].values\n",
    "y = df['precio'].values\n",
    "\n",
    "x = x.reshape(len(x),1)\n",
    "y = y.reshape(len(y),1)"
   ]
  },
  {
   "cell_type": "code",
   "execution_count": 5,
   "metadata": {},
   "outputs": [
    {
     "data": {
      "text/plain": [
       "(518, 1)"
      ]
     },
     "execution_count": 5,
     "metadata": {},
     "output_type": "execute_result"
    }
   ],
   "source": [
    "x.shape"
   ]
  },
  {
   "cell_type": "code",
   "execution_count": 6,
   "metadata": {},
   "outputs": [],
   "source": [
    "from sklearn.linear_model import LinearRegression\n",
    "\n",
    "\"\"\"\n",
    "Reemplazar por nuestra implementación \n",
    "\"\"\"\n",
    "\n",
    "#linear_regressor = LinearRegression()\n",
    "linear_regressor = metnum.LinearRegression()\n",
    "\n",
    "linear_regressor.fit(x,y)"
   ]
  },
  {
   "cell_type": "code",
   "execution_count": null,
   "metadata": {},
   "outputs": [],
   "source": [
    "df['prediction'] = linear_regressor.predict(x)"
   ]
  },
  {
   "cell_type": "code",
   "execution_count": null,
   "metadata": {},
   "outputs": [],
   "source": [
    "sns.scatterplot(data=df, x='metroscubiertos', y='precio')\n",
    "sns.lineplot(data=df, x='metroscubiertos', y='prediction', color='red')\n"
   ]
  },
  {
   "cell_type": "code",
   "execution_count": 4,
   "metadata": {},
   "outputs": [],
   "source": [
    "df = pd.read_csv('../data/train.csv')"
   ]
  },
  {
   "cell_type": "code",
   "execution_count": 8,
   "metadata": {},
   "outputs": [
    {
     "name": "stdout",
     "output_type": "stream",
     "text": [
      "scores: [0.6069302542985389, 0.7924547315587749, 0.4704843144236961, 0.6058549561912931]\n"
     ]
    }
   ],
   "source": [
    "import wrappers\n",
    "from cross_validation import cross_validate\n",
    "\n",
    "def segment(df):\n",
    "    return [\n",
    "        df[df['provincia']=='Oaxaca'].dropna(),\n",
    "        df[df['provincia']=='Yucatán'].dropna(),\n",
    "    ]\n",
    "\n",
    "clf = wrappers.PolynomialRegressor(\n",
    "    feature='metroscubiertos',\n",
    "    explain='precio',\n",
    "    degree=5, # lineal\n",
    "    func_segment = segment,\n",
    ")\n",
    "\n",
    "clf.fit(df)\n",
    "#pred = clf.predict(df)\n",
    "\n",
    "#import matplotlib.pyplot as plt\n",
    "#plt.subplots(1, 1, figsize=(18, 8))\n",
    "\n",
    "#sns.scatterplot(data=pred, x='metroscubiertos', y='precio', hue='provincia')\n",
    "#sns.lineplot(data=pred, x='metroscubiertos', y='prediction', hue=\"provincia\")\n",
    "\n",
    "#scores = clf.scores(df, [\"r2\", \"rmse\", \"rmsle\"])\n",
    "#print(\"scores:\", scores)\n",
    "\n",
    "K = 4\n",
    "debug = True\n",
    "cv_scores = cross_validate(clf, df, \"rmsle\", K, debug)\n"
   ]
  },
  {
   "cell_type": "code",
   "execution_count": null,
   "metadata": {},
   "outputs": [],
   "source": [
    "scores = "
   ]
  },
  {
   "cell_type": "code",
   "execution_count": null,
   "metadata": {},
   "outputs": [],
   "source": []
  }
 ],
 "metadata": {
  "kernelspec": {
   "display_name": "Python 3",
   "language": "python",
   "name": "python3"
  },
  "language_info": {
   "codemirror_mode": {
    "name": "ipython",
    "version": 3
   },
   "file_extension": ".py",
   "mimetype": "text/x-python",
   "name": "python",
   "nbconvert_exporter": "python",
   "pygments_lexer": "ipython3",
   "version": "3.6.9"
  }
 },
 "nbformat": 4,
 "nbformat_minor": 4
}
